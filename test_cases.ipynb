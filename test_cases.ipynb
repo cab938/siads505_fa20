{
 "cells": [
  {
   "cell_type": "code",
   "execution_count": 17,
   "metadata": {
    "tags": []
   },
   "outputs": [
    {
     "output_type": "stream",
     "name": "stdout",
     "text": "WARNING :: No columns found for dataframe: \"empty_test_df\". It will return an empty Dataframe.\n"
    }
   ],
   "source": [
    "%run ./bonus_assignment.ipynb\n",
    "\n",
    "@register_cell_magic\n",
    "def fakedata_testing(line, cell):\n",
    "    # wrapping everything inside a giant try-except block\n",
    "    try:\n",
    "        fakedata(line,cell)\n",
    "        print(\"No exceptions encountered while generating DataFrames 🐼🎉🎈🎊\")\n",
    "    except Exception as e:\n",
    "        template = \"🚫🚫🚫🚫🚫 An exception of type {0} occurred. Arguments:\\n{1!r}\"\n",
    "        message = template.format(type(e).__name__, e.args)\n",
    "        print(message)\n",
    "\n",
    "@register_line_magic\n",
    "def test(line):\n",
    "    try:\n",
    "        exec(line)\n",
    "        print(\"PASSED\")\n",
    "    except Exception as e:\n",
    "        print(\"FAILED {}\".format(e))"
   ]
  },
  {
   "cell_type": "markdown",
   "metadata": {},
   "source": [
    "## How to test\n",
    "* Use `%%fakedata_testing` instead of `%%fakedata` for cell magic.\n",
    "* Use `%test` line magic to do simple assertion tests\n",
    "* Everytime you make changes to `bonus_assignment.ipynb`, you must save that file and \"Restart-Run all\" in this notebook.\n",
    "* Exceptions are suppressed so that all tests are run\n",
    "\n",
    "Sample for defining the domain specific language:\n",
    "```\n",
    "%%fakedata_testing\n",
    "persons\n",
    "-------\n",
    "first_name\n",
    "last_name*\n",
    "phone_number\n",
    "random_number(5) as customer_number [1]*\n",
    "\n",
    "purchases\n",
    "---------\n",
    "isbn10\n",
    "credit_card_full\n",
    "random_number(3) as price\n",
    "random_number(5) as customer_number [1]\n",
    "```\n",
    "\n",
    "Sample for testing the generated DataFrame\n",
    "```\n",
    "%test assert len(persons) == 99,'\"persons\" should have 99 rows'\n",
    "```"
   ]
  },
  {
   "cell_type": "code",
   "execution_count": 18,
   "metadata": {
    "tags": []
   },
   "outputs": [
    {
     "output_type": "stream",
     "name": "stdout",
     "text": "WARNING :: No columns found for dataframe: \"empty_test_df\". It will return an empty Dataframe.\n"
    }
   ],
   "source": [
    "%%fakedata\n",
    "persons\n",
    "-------\n",
    "first_name\n",
    "last_name *\n",
    "phone_number\n",
    "random_number(5) as customer_number [1]*\n",
    "\n",
    "purchases\n",
    "---------\n",
    "isbn10\n",
    "credit_card_full\n",
    "random_number(3) as price\n",
    "random_number(5) as customer_number [1]"
   ]
  },
  {
   "cell_type": "code",
   "execution_count": 19,
   "metadata": {
    "tags": []
   },
   "outputs": [
    {
     "output_type": "stream",
     "name": "stdout",
     "text": "PASSED\nPASSED\nPASSED\nPASSED\nPASSED\nPASSED\nPASSED\n"
    }
   ],
   "source": [
    "%test assert len(persons) == 99,'\"persons\" should have 99 rows'\n",
    "%test assert len(purchases) == 99,'\"purchases\" should have 99 rows'\n",
    "%test assert len(persons.last_name.value_counts()) == 99,'\"persons.last_name\" should have 99 unique values'\n",
    "%test assert len(persons.customer_number.value_counts()) == 99,'\"persons.customer_number\" should have 99 unique values'\n",
    "%test assert len(purchases.customer_number.value_counts()) < 99,'\"purchases.customer_numbers\" should have less than 99 unique values'\n",
    "%test assert purchases.customer_number.isin(persons.customer_number).all(), '\"purchases.customer_number\" should be a subset of \"persons.customer_number\"'\n",
    "%test assert (purchases.columns == ['isbn10', 'credit_card_full', 'price', 'customer_number']).all(), '''\"purchase.columns\" should be ['isbn10', 'credit_card_full', 'price', 'customer_number']'''"
   ]
  },
  {
   "cell_type": "code",
   "execution_count": 20,
   "metadata": {
    "tags": []
   },
   "outputs": [
    {
     "output_type": "stream",
     "name": "stdout",
     "text": "No exceptions encountered while generating DataFrames 🐼🎉🎈🎊\n"
    }
   ],
   "source": [
    "%%fakedata_testing\n",
    "companies\n",
    "-------\n",
    "company*\n",
    "catch_phrase\n",
    "country\n",
    "date_time_this_century as established"
   ]
  },
  {
   "cell_type": "code",
   "execution_count": 21,
   "metadata": {
    "tags": []
   },
   "outputs": [
    {
     "output_type": "stream",
     "name": "stdout",
     "text": "PASSED\nPASSED\nPASSED\n"
    }
   ],
   "source": [
    "%test assert len(companies) == 99,'\"companies\" should have 99 rows'\n",
    "%test assert len(companies.company.value_counts()) == 99,'\"companies.company\" should have 99 unique values'\n",
    "%test assert (companies.columns == ['company', 'catch_phrase', 'country', 'established']).all(), '''\"purchase.columns\" should be ['company', 'catch_phrase', 'country', 'established']'''"
   ]
  },
  {
   "source": [
    "These are additional tests :\n",
    "* test if the regex is robust to empty rows in the DataFrame column definition\n",
    "* test for the creation of an empty DataFrame\n",
    "* test for multiple references"
   ],
   "cell_type": "markdown",
   "metadata": {}
  },
  {
   "cell_type": "code",
   "execution_count": null,
   "metadata": {},
   "outputs": [],
   "source": [
    "%%fakedata\n",
    "persons\n",
    "-------\n",
    "first_name\n",
    "last_name [2]*\n",
    "\n",
    "phone_number\n",
    "random_number(5) as customer_number [1]*\n",
    "\n",
    "purchases\n",
    "---------\n",
    "isbn10\n",
    "credit_card_full\n",
    "random_number(3) as price\n",
    "random_number(5) as customer_number [1]\n",
    "empty_test_df\n",
    "---\n",
    "families\n",
    "-----\n",
    "last_name [2]\n",
    "address"
   ]
  },
  {
   "cell_type": "code",
   "execution_count": 27,
   "metadata": {
    "tags": []
   },
   "outputs": [
    {
     "output_type": "stream",
     "name": "stdout",
     "text": "PASSED\nPASSED\n"
    }
   ],
   "source": [
    "%test assert isinstance(empty_test_df, pd.DataFrame),'\"empty_test_df\" should be a DataFrame'\n",
    "%test assert len(empty_test_df.columns) == 0,'\"empty_test_df\" should have 0 columns'"
   ]
  },
  {
   "cell_type": "code",
   "execution_count": 31,
   "metadata": {
    "tags": []
   },
   "outputs": [
    {
     "output_type": "stream",
     "name": "stdout",
     "text": "PASSED\nPASSED\nPASSED\n"
    }
   ],
   "source": [
    "%test assert len(families) == 99,'\"families\" should have 99 rows'\n",
    "%test assert len(families.last_name.value_counts()) < 99,'\"families.last_name\" should have less than 99 unique values'\n",
    "%test assert families.last_name.isin(persons.last_name).all(), '\"families.last_name\" should be a subset of \"persons.last_name\"'"
   ]
  },
  {
   "cell_type": "code",
   "execution_count": null,
   "metadata": {},
   "outputs": [],
   "source": []
  }
 ],
 "metadata": {
  "kernelspec": {
   "display_name": "Python 3",
   "language": "python",
   "name": "python3"
  },
  "language_info": {
   "codemirror_mode": {
    "name": "ipython",
    "version": 3
   },
   "file_extension": ".py",
   "mimetype": "text/x-python",
   "name": "python",
   "nbconvert_exporter": "python",
   "pygments_lexer": "ipython3",
   "version": "3.7.7-final"
  }
 },
 "nbformat": 4,
 "nbformat_minor": 4
}