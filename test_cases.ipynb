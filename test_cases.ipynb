{
 "cells": [
  {
   "cell_type": "code",
   "execution_count": 1,
   "metadata": {
    "tags": []
   },
   "outputs": [],
   "source": [
    "%run ./bonus_assignment.ipynb\n",
    "\n",
    "@register_cell_magic\n",
    "def fakedata_testing(line, cell):\n",
    "    # wrapping everything inside a giant try-except block\n",
    "    try:\n",
    "        fakedata(line,cell)\n",
    "        print(\"No exceptions encountered while generating DataFrames 🐼🎉🎈🎊\")\n",
    "    except Exception as e:\n",
    "        template = \"🚫🚫🚫🚫🚫 An exception of type {0} occurred. Arguments:\\n{1!r}\"\n",
    "        message = template.format(type(e).__name__, e.args)\n",
    "        print(message)\n",
    "\n",
    "@register_line_magic\n",
    "def test(line):\n",
    "    try:\n",
    "        exec(line)\n",
    "        print(\"PASSED\")\n",
    "    except Exception as e:\n",
    "        print(\"FAILED {}\".format(e))"
   ]
  },
  {
   "cell_type": "markdown",
   "metadata": {},
   "source": [
    "## How to test\n",
    "* Use `%%fakedata_testing` instead of `%%fakedata` for cell magic.\n",
    "* Use `%test` line magic to do simple assertion tests\n",
    "* Everytime you make changes to `bonus_assignment.ipynb`, you must save that file and \"Restart-Run all\" in this notebook.\n",
    "* Exceptions are suppressed so that all tests are run\n",
    "\n",
    "Sample for defining the domain specific language:\n",
    "```\n",
    "%%fakedata_testing\n",
    "persons\n",
    "-------\n",
    "first_name\n",
    "last_name*\n",
    "phone_number\n",
    "random_number(5) as customer_number [1]*\n",
    "\n",
    "purchases\n",
    "---------\n",
    "isbn10\n",
    "credit_card_full\n",
    "random_number(3) as price\n",
    "random_number(5) as customer_number [1]\n",
    "```\n",
    "\n",
    "Sample for testing the generated DataFrame\n",
    "```\n",
    "%test assert len(persons) == 99,'\"persons\" should have 99 rows'\n",
    "```"
   ]
  },
  {
   "cell_type": "markdown",
   "metadata": {},
   "source": [
    "## An attempt at a more formal grammar\n",
    "\n",
    "```\n",
    "function_to_call  ::= <wordcharacters>\n",
    "parameters        ::= \"\" | \"(\" ( wordcharacters | number ) \")\"\n",
    "as_name           ::= \"\" | \"as\" <whitespace> <wordcharacters>\n",
    "column_name       ::= as_name | function_to_call\n",
    "reference         ::= \"\" |  \"[\" number \"]\"\n",
    "unique_mark       ::= \"\" | \"*\"\n",
    "column_definition ::= <function_to_call> <parameters> <whitespace> \\\n",
    "                      <as_name> <whitespace> <reference> <unique_mark>\n",
    "df_sep            ::= \"--\" (\"-\"*)\n",
    "df_definition     ::= <wordcharacters> <newline> <df_sep> <newline> \\\n",
    "                      (<column_definition>*) <newline> <newline>\n",
    "language_spec     ::= <def_definition>*\n",
    "```\n",
    "* *Note 1: The `<whitespace>` between `<parameters>` should likely be part of `<as_name>`*\n",
    "* *Note 2: The `<whitespace>` after `<as_name>` should probably be optional*"
   ]
  },
  {
   "cell_type": "code",
   "execution_count": 11,
   "metadata": {
    "tags": []
   },
   "outputs": [
    {
     "name": "stdout",
     "output_type": "stream",
     "text": [
      "No exceptions encountered while generating DataFrames 🐼🎉🎈🎊\n"
     ]
    }
   ],
   "source": [
    "%%fakedata_testing\n",
    "persons\n",
    "-------\n",
    "first_name \n",
    "last_name *\n",
    "phone_number\n",
    "random_number(5) as customer_number [1]*\n",
    "\n",
    "purchases\n",
    "---------\n",
    "isbn10\n",
    "credit_card_full\n",
    "random_number(3) as price\n",
    "random_number(5) as customer_number [1]\n",
    "\n"
   ]
  },
  {
   "cell_type": "code",
   "execution_count": 16,
   "metadata": {
    "tags": []
   },
   "outputs": [
    {
     "name": "stdout",
     "output_type": "stream",
     "text": [
      "0       Pollard\n",
      "1     Blackburn\n",
      "2           Ray\n",
      "3        Glover\n",
      "4        Greene\n",
      "        ...    \n",
      "94       Cooper\n",
      "95     Alvarado\n",
      "96       Cannon\n",
      "97    Zimmerman\n",
      "98       Melton\n",
      "Name: first_name, Length: 99, dtype: object\n",
      "PASSED\n",
      "PASSED\n",
      "PASSED\n",
      "PASSED\n",
      "PASSED\n",
      "PASSED\n",
      "PASSED\n"
     ]
    }
   ],
   "source": [
    "%test assert len(persons) == 99,'\"persons\" should have 99 rows'\n",
    "%test assert len(purchases) == 99,'\"purchases\" should have 99 rows'\n",
    "%test assert len(persons.last_name.value_counts()) == 99,'\"persons.last_name\" should have 99 unique values'\n",
    "%test assert len(persons.customer_number.value_counts()) == 99,'\"persons.customer_number\" should have 99 unique values'\n",
    "%test assert len(purchases.customer_number.value_counts()) < 99,'\"purchases.customer_numbers\" should have less than 99 unique values'\n",
    "%test assert purchases.customer_number.isin(persons.customer_number).all(), '\"purchases.customer_number\" should be a subset of \"persons.customer_number\"'\n",
    "%test assert (purchases.columns == ['isbn10', 'credit_card_full', 'price', 'customer_number']).all(), '''\"purchase.columns\" should be ['isbn10', 'credit_card_full', 'price', 'customer_number']'''"
   ]
  },
  {
   "cell_type": "markdown",
   "metadata": {},
   "source": [
    "---\n",
    "* test some other faker providers"
   ]
  },
  {
   "cell_type": "code",
   "execution_count": 4,
   "metadata": {
    "tags": []
   },
   "outputs": [
    {
     "name": "stdout",
     "output_type": "stream",
     "text": [
      "No exceptions encountered while generating DataFrames 🐼🎉🎈🎊\n"
     ]
    }
   ],
   "source": [
    "%%fakedata_testing\n",
    "companies\n",
    "-------\n",
    "company *\n",
    "catch_phrase\n",
    "country\n",
    "date_time_this_century as established\n",
    "\n"
   ]
  },
  {
   "cell_type": "code",
   "execution_count": 5,
   "metadata": {
    "tags": []
   },
   "outputs": [
    {
     "name": "stdout",
     "output_type": "stream",
     "text": [
      "PASSED\n",
      "PASSED\n",
      "PASSED\n"
     ]
    }
   ],
   "source": [
    "%test assert len(companies) == 99,'\"companies\" should have 99 rows'\n",
    "%test assert len(companies.company.value_counts()) == 99,'\"companies.company\" should have 99 unique values'\n",
    "%test assert (companies.columns == ['company', 'catch_phrase', 'country', 'established']).all(), '''\"purchase.columns\" should be ['company', 'catch_phrase', 'country', 'established']'''"
   ]
  },
  {
   "cell_type": "markdown",
   "metadata": {},
   "source": [
    "---\n",
    "* test for multiple references"
   ]
  },
  {
   "cell_type": "code",
   "execution_count": 6,
   "metadata": {
    "tags": []
   },
   "outputs": [
    {
     "name": "stdout",
     "output_type": "stream",
     "text": [
      "No exceptions encountered while generating DataFrames 🐼🎉🎈🎊\n"
     ]
    }
   ],
   "source": [
    "%%fakedata_testing\n",
    "familypersons\n",
    "-------\n",
    "first_name\n",
    "last_name [2]*\n",
    "random_number(5) as person_number [1]*\n",
    "\n",
    "families\n",
    "-----\n",
    "last_name [2]\n",
    "address\n",
    "\n"
   ]
  },
  {
   "cell_type": "code",
   "execution_count": 7,
   "metadata": {
    "tags": []
   },
   "outputs": [
    {
     "name": "stdout",
     "output_type": "stream",
     "text": [
      "PASSED\n",
      "PASSED\n",
      "PASSED\n"
     ]
    }
   ],
   "source": [
    "%test assert len(families) == 99,'\"families\" should have 99 rows'\n",
    "%test assert len(families.last_name.value_counts()) < 99,'\"families.last_name\" should have less than 99 unique values'\n",
    "%test assert families.last_name.isin(familypersons.last_name).all(), '\"families.last_name\" should be a subset of \"persons.last_name\"'"
   ]
  },
  {
   "cell_type": "markdown",
   "metadata": {},
   "source": [
    "---\n",
    "* test for the creation of an empty DataFrame"
   ]
  },
  {
   "cell_type": "code",
   "execution_count": 8,
   "metadata": {},
   "outputs": [
    {
     "name": "stdout",
     "output_type": "stream",
     "text": [
      "No exceptions encountered while generating DataFrames 🐼🎉🎈🎊\n"
     ]
    }
   ],
   "source": [
    "%%fakedata_testing\n",
    "empty_test_df\n",
    "---\n",
    "\n"
   ]
  },
  {
   "cell_type": "code",
   "execution_count": 9,
   "metadata": {},
   "outputs": [
    {
     "name": "stdout",
     "output_type": "stream",
     "text": [
      "PASSED\n",
      "PASSED\n"
     ]
    }
   ],
   "source": [
    "%test assert isinstance(empty_test_df, pd.DataFrame),'\"empty_test_df\" should be a DataFrame'\n",
    "%test assert len(empty_test_df.columns) == 0,'\"empty_test_df\" should have 0 columns'"
   ]
  },
  {
   "cell_type": "code",
   "execution_count": null,
   "metadata": {},
   "outputs": [],
   "source": []
  }
 ],
 "metadata": {
  "kernelspec": {
   "display_name": "Python 3",
   "language": "python",
   "name": "python3"
  },
  "language_info": {
   "codemirror_mode": {
    "name": "ipython",
    "version": 3
   },
   "file_extension": ".py",
   "mimetype": "text/x-python",
   "name": "python",
   "nbconvert_exporter": "python",
   "pygments_lexer": "ipython3",
   "version": "3.8.5"
  }
 },
 "nbformat": 4,
 "nbformat_minor": 4
}
