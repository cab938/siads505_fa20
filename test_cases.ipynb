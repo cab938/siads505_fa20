{
 "cells": [
  {
   "cell_type": "code",
   "execution_count": 1,
   "metadata": {},
   "outputs": [],
   "source": [
    "%run ./bonus_assignment.ipynb\n",
    "\n",
    "@register_cell_magic\n",
    "def fakedata_testing(line, cell):\n",
    "    # wrapping everything inside a giant try-except block\n",
    "    try:\n",
    "        fakedata(line,cell)\n",
    "        print(\"No exceptions encountered while generating DataFrames 🐼🎉🎈🎊\")\n",
    "    except Exception as e:\n",
    "        template = \"🚫🚫🚫🚫🚫 An exception of type {0} occurred. Arguments:\\n{1!r}\"\n",
    "        message = template.format(type(e).__name__, e.args)\n",
    "        print(message)\n",
    "\n",
    "@register_line_magic\n",
    "def test(line):\n",
    "    try:\n",
    "        exec(line)\n",
    "        print(\"PASSED\")\n",
    "    except Exception as e:\n",
    "        print(\"FAILED {}\".format(e))"
   ]
  },
  {
   "cell_type": "markdown",
   "metadata": {},
   "source": [
    "## How to test\n",
    "* Use `%%fakedata_testing` instead of `%%fakedata` for cell magic.\n",
    "* Use `%test` line magic to do simple assertion tests\n",
    "* Everytime you make changes to `bonus_assignment.ipynb`, you must save that file and \"Restart-Run all\" in this notebook.\n",
    "* Exceptions are suppressed so that all tests are run\n",
    "\n",
    "Sample for defining the domain specific language:\n",
    "```\n",
    "%%fakedata_testing\n",
    "persons\n",
    "-------\n",
    "first_name\n",
    "last_name*\n",
    "phone_number\n",
    "random_number(5) as customer_number [1]*\n",
    "\n",
    "purchases\n",
    "---------\n",
    "isbn10\n",
    "credit_card_full\n",
    "random_number(3) as price\n",
    "random_number(5) as customer_number [1]\n",
    "```\n",
    "\n",
    "Sample for testing the generated DataFrame\n",
    "```\n",
    "%test assert len(persons) == 99,'\"persons\" should have 99 rows'\n",
    "```"
   ]
  },
  {
   "cell_type": "code",
   "execution_count": 2,
   "metadata": {},
   "outputs": [
    {
     "name": "stdout",
     "output_type": "stream",
     "text": [
      "No exceptions encountered while generating DataFrames 🐼🎉🎈🎊\n"
     ]
    }
   ],
   "source": [
    "%%fakedata_testing\n",
    "persons\n",
    "-------\n",
    "first_name\n",
    "last_name*\n",
    "phone_number\n",
    "random_number(5) as customer_number [1]*\n",
    "\n",
    "purchases\n",
    "---------\n",
    "isbn10\n",
    "credit_card_full\n",
    "random_number(3) as price\n",
    "random_number(5) as customer_number [1]"
   ]
  },
  {
   "cell_type": "code",
   "execution_count": 3,
   "metadata": {},
   "outputs": [
    {
     "name": "stdout",
     "output_type": "stream",
     "text": [
      "PASSED\n",
      "PASSED\n",
      "PASSED\n",
      "PASSED\n",
      "PASSED\n",
      "PASSED\n",
      "PASSED\n"
     ]
    }
   ],
   "source": [
    "%test assert len(persons) == 99,'\"persons\" should have 99 rows'\n",
    "%test assert len(purchases) == 99,'\"purchases\" should have 99 rows'\n",
    "%test assert len(persons.last_name.value_counts()) == 99,'\"persons.last_name\" should have 99 unique values'\n",
    "%test assert len(persons.customer_number.value_counts()) == 99,'\"persons.customer_number\" should have 99 unique values'\n",
    "%test assert len(purchases.customer_number.value_counts()) < 99,'\"purchases.customer_numbers\" should have less than 99 unique values'\n",
    "%test assert purchases.customer_number.isin(persons.customer_number).all(), '\"purchases.customer_number\" should be a subset of \"persons.customer_number\"'\n",
    "%test assert (purchases.columns == ['isbn10', 'credit_card_full', 'price', 'customer_number']).all(), '''\"purchase.columns\" should be ['isbn10', 'credit_card_full', 'price', 'customer_number']'''"
   ]
  },
  {
   "cell_type": "code",
   "execution_count": 4,
   "metadata": {},
   "outputs": [
    {
     "name": "stdout",
     "output_type": "stream",
     "text": [
      "No exceptions encountered while generating DataFrames 🐼🎉🎈🎊\n"
     ]
    }
   ],
   "source": [
    "%%fakedata_testing\n",
    "companies\n",
    "-------\n",
    "company*\n",
    "catch_phrase\n",
    "country\n",
    "date_time_this_century as established"
   ]
  },
  {
   "cell_type": "code",
   "execution_count": 5,
   "metadata": {},
   "outputs": [
    {
     "name": "stdout",
     "output_type": "stream",
     "text": [
      "PASSED\n",
      "PASSED\n",
      "PASSED\n"
     ]
    }
   ],
   "source": [
    "%test assert len(companies) == 99,'\"companies\" should have 99 rows'\n",
    "%test assert len(companies.company.value_counts()) == 99,'\"companies.company\" should have 99 unique values'\n",
    "%test assert (companies.columns == ['company', 'catch_phrase', 'country', 'established']).all(), '''\"purchase.columns\" should be ['company', 'catch_phrase', 'country', 'established']'''"
   ]
  },
  {
   "cell_type": "code",
   "execution_count": null,
   "metadata": {},
   "outputs": [],
   "source": []
  }
 ],
 "metadata": {
  "kernelspec": {
   "display_name": "Python 3",
   "language": "python",
   "name": "python3"
  },
  "language_info": {
   "codemirror_mode": {
    "name": "ipython",
    "version": 3
   },
   "file_extension": ".py",
   "mimetype": "text/x-python",
   "name": "python",
   "nbconvert_exporter": "python",
   "pygments_lexer": "ipython3",
   "version": "3.8.5"
  }
 },
 "nbformat": 4,
 "nbformat_minor": 4
}
